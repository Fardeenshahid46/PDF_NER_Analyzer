{
 "cells": [
  {
   "cell_type": "code",
   "execution_count": 3,
   "id": "566d1164-fac7-4c4e-acba-c3f5e30f1e09",
   "metadata": {},
   "outputs": [],
   "source": [
    "from PyPDF2 import PdfReader\n",
    "import pandas as pd\n",
    "from transformers import pipeline, AutoTokenizer, AutoModelForTokenClassification"
   ]
  },
  {
   "cell_type": "code",
   "execution_count": 4,
   "id": "77a44c62-2074-4c8c-b0a5-16cdfdf7ac5a",
   "metadata": {},
   "outputs": [
    {
     "name": "stderr",
     "output_type": "stream",
     "text": [
      "Some weights of the model checkpoint at dslim/bert-base-NER were not used when initializing BertForTokenClassification: ['bert.pooler.dense.bias', 'bert.pooler.dense.weight']\n",
      "- This IS expected if you are initializing BertForTokenClassification from the checkpoint of a model trained on another task or with another architecture (e.g. initializing a BertForSequenceClassification model from a BertForPreTraining model).\n",
      "- This IS NOT expected if you are initializing BertForTokenClassification from the checkpoint of a model that you expect to be exactly identical (initializing a BertForSequenceClassification model from a BertForSequenceClassification model).\n",
      "Device set to use cpu\n"
     ]
    }
   ],
   "source": [
    "# Load NER Model\n",
    "tokenizer = AutoTokenizer.from_pretrained(\"dslim/bert-base-NER\")\n",
    "model = AutoModelForTokenClassification.from_pretrained(\"dslim/bert-base-NER\")\n",
    "ner_pipeline = pipeline(\"ner\", model=model, tokenizer=tokenizer)\n"
   ]
  },
  {
   "cell_type": "code",
   "execution_count": 5,
   "id": "fe9487ff-6290-4dc0-9845-ca92bc2d865e",
   "metadata": {},
   "outputs": [],
   "source": [
    "# Function to extract text from PDF\n",
    "def extract_text_from_pdf(pdf_path):\n",
    "    reader = PdfReader(pdf_path)\n",
    "    text = \"\"\n",
    "    for page in reader.pages:\n",
    "        text += page.extract_text()\n",
    "    return text\n",
    "# Function to run NER and return DataFrame\n",
    "def get_entities(text):\n",
    "    ner_results = ner_pipeline(text)\n",
    "    df = pd.DataFrame(ner_results)\n",
    "    # Optional: drop duplicates\n",
    "    df = df.drop_duplicates(subset=[\"word\", \"entity\"])\n",
    "    return df    "
   ]
  },
  {
   "cell_type": "code",
   "execution_count": 7,
   "id": "4b902db9-ee20-4853-b649-b6d37c9ea548",
   "metadata": {},
   "outputs": [
    {
     "name": "stdout",
     "output_type": "stream",
     "text": [
      "  entity     score  index   word  start  end\n",
      "0  B-PER  0.995973      5   John     14   18\n",
      "1  I-PER  0.997951      6     Do     19   21\n",
      "2  I-PER  0.842430      7    ##e     21   22\n",
      "3  B-PER  0.672285     47  Smith    154  159\n",
      "4  B-PER  0.981908     52  Alice    176  181\n"
     ]
    }
   ],
   "source": [
    "pdf_path = \"data/sample.pdf\"  # Replace with your PDF\n",
    "text = extract_text_from_pdf(pdf_path)\n",
    "df_entities = get_entities(text)\n",
    "print(df_entities.head())"
   ]
  },
  {
   "cell_type": "code",
   "execution_count": 9,
   "id": "c9ec19c5-8426-45b2-83f6-059137f2b2f6",
   "metadata": {},
   "outputs": [],
   "source": [
    "# Save results to CSV\n",
    "df_entities.to_csv(\"ner_results.csv\", index=False)"
   ]
  },
  {
   "cell_type": "code",
   "execution_count": null,
   "id": "9fe38ce0-421e-4677-9354-1c93113fc3b0",
   "metadata": {},
   "outputs": [],
   "source": []
  },
  {
   "cell_type": "code",
   "execution_count": null,
   "id": "29f65d73-ecdb-49be-80bc-2fc4ab6655e5",
   "metadata": {},
   "outputs": [],
   "source": []
  }
 ],
 "metadata": {
  "kernelspec": {
   "display_name": "Python 3 (ipykernel)",
   "language": "python",
   "name": "python3"
  },
  "language_info": {
   "codemirror_mode": {
    "name": "ipython",
    "version": 3
   },
   "file_extension": ".py",
   "mimetype": "text/x-python",
   "name": "python",
   "nbconvert_exporter": "python",
   "pygments_lexer": "ipython3",
   "version": "3.12.1"
  }
 },
 "nbformat": 4,
 "nbformat_minor": 5
}
